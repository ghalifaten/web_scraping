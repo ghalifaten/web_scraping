{
 "cells": [
  {
   "cell_type": "code",
   "execution_count": 1,
   "metadata": {},
   "outputs": [],
   "source": [
    "import pandas as pd "
   ]
  },
  {
   "cell_type": "code",
   "execution_count": 2,
   "metadata": {},
   "outputs": [],
   "source": [
    "FOLDER = 'data/'"
   ]
  },
  {
   "cell_type": "markdown",
   "metadata": {},
   "source": [
    "## Excercise 1"
   ]
  },
  {
   "cell_type": "code",
   "execution_count": 3,
   "metadata": {},
   "outputs": [],
   "source": [
    "import requests\n",
    "from bs4 import BeautifulSoup as bs"
   ]
  },
  {
   "cell_type": "code",
   "execution_count": 4,
   "metadata": {},
   "outputs": [
    {
     "name": "stdout",
     "output_type": "stream",
     "text": [
      "Response status code: 200\n",
      "\n",
      "Response headers: {'Server': 'Assalamualaikum', 'Date': 'Mon, 10 May 2021 09:14:54 GMT', 'Content-Type': 'text/html; charset=utf-8', 'Transfer-Encoding': 'chunked', 'Connection': 'keep-alive', 'Set-Cookie': 'a84e221fe625c28a19c2ec33e5dfa264=mdavac0b9vbe17qdfbt49pqit7; path=/; HttpOnly', 'P3P': 'CP=\"NOI ADM DEV PSAi COM NAV OUR OTRo STP IND DEM\"', 'Expires': 'Wed, 17 Aug 2005 00:00:00 GMT', 'Last-Modified': 'Mon, 10 May 2021 09:14:54 GMT', 'Cache-Control': 'no-store, no-cache, must-revalidate, post-check=0, pre-check=0', 'Pragma': 'no-cache', 'Vary': 'Accept-Encoding', 'Content-Encoding': 'gzip'}\n",
      "\n"
     ]
    }
   ],
   "source": [
    "url = 'https://bepi.mpob.gov.my/index.php/en/import/import-2021/monthly-import-of-oil-palm-products-2021'\n",
    "response = requests.get(url)\n",
    "\n",
    "print('Response status code: {0}\\n'.format(response.status_code))\n",
    "print('Response headers: {0}\\n'.format(response.headers))"
   ]
  },
  {
   "cell_type": "code",
   "execution_count": 5,
   "metadata": {},
   "outputs": [
    {
     "name": "stdout",
     "output_type": "stream",
     "text": [
      "/../stat/web_report1.php?val=202150\n"
     ]
    }
   ],
   "source": [
    "soup = bs(response.text, 'html.parser')\n",
    "iframe = soup.find('iframe', class_='wrapper') #this is where a second html file, containing the desired table, is embedded\n",
    "print(iframe.attrs['src'])"
   ]
  },
  {
   "cell_type": "code",
   "execution_count": 6,
   "metadata": {},
   "outputs": [
    {
     "name": "stdout",
     "output_type": "stream",
     "text": [
      "Response status code: 200\n",
      "\n",
      "Response headers: {'Server': 'Assalamualaikum', 'Date': 'Mon, 10 May 2021 09:14:56 GMT', 'Content-Type': 'text/html; charset=UTF-8', 'Transfer-Encoding': 'chunked', 'Connection': 'keep-alive', 'Vary': 'Accept-Encoding', 'Content-Encoding': 'gzip'}\n",
      "\n"
     ]
    }
   ],
   "source": [
    "\"\"\"\n",
    " This is a manual manipulation because urllib.urlopen wouldn't work. Also I've never seen urllib.urlopen before. So I went for the manual solution to gain time.\n",
    "\"\"\"\n",
    "url_table = 'https://bepi.mpob.gov.my/stat/web_report1.php?val=202150'\n",
    "res_table = requests.get(url_table)\n",
    "\n",
    "print('Response status code: {0}\\n'.format(res_table.status_code))\n",
    "print('Response headers: {0}\\n'.format(res_table.headers))"
   ]
  },
  {
   "cell_type": "code",
   "execution_count": 7,
   "metadata": {},
   "outputs": [],
   "source": [
    "soup_table = bs(res_table.text, 'html.parser')\n",
    "table = soup_table.find('table')"
   ]
  },
  {
   "cell_type": "code",
   "execution_count": 8,
   "metadata": {},
   "outputs": [
    {
     "data": {
      "text/plain": [
       "1"
      ]
     },
     "execution_count": 8,
     "metadata": {},
     "output_type": "execute_result"
    }
   ],
   "source": [
    "ex1_dfs = pd.read_html(str(table)) #returns a list of dataframes\n",
    "len(ex1_dfs)"
   ]
  },
  {
   "cell_type": "code",
   "execution_count": 9,
   "metadata": {},
   "outputs": [
    {
     "data": {
      "text/html": [
       "<div>\n",
       "<style scoped>\n",
       "    .dataframe tbody tr th:only-of-type {\n",
       "        vertical-align: middle;\n",
       "    }\n",
       "\n",
       "    .dataframe tbody tr th {\n",
       "        vertical-align: top;\n",
       "    }\n",
       "\n",
       "    .dataframe thead th {\n",
       "        text-align: right;\n",
       "    }\n",
       "</style>\n",
       "<table border=\"1\" class=\"dataframe\">\n",
       "  <thead>\n",
       "    <tr style=\"text-align: right;\">\n",
       "      <th></th>\n",
       "      <th>0</th>\n",
       "      <th>1</th>\n",
       "      <th>2</th>\n",
       "      <th>3</th>\n",
       "      <th>4</th>\n",
       "      <th>5</th>\n",
       "      <th>6</th>\n",
       "    </tr>\n",
       "  </thead>\n",
       "  <tbody>\n",
       "    <tr>\n",
       "      <th>0</th>\n",
       "      <td>Months</td>\n",
       "      <td>Palm Oil</td>\n",
       "      <td>Palm Oil</td>\n",
       "      <td>Palm Kernel Oil</td>\n",
       "      <td>Palm Kernel Oil</td>\n",
       "      <td>Palm Kernel</td>\n",
       "      <td>Palm Kernel</td>\n",
       "    </tr>\n",
       "    <tr>\n",
       "      <th>1</th>\n",
       "      <td>Months</td>\n",
       "      <td>2020</td>\n",
       "      <td>2021</td>\n",
       "      <td>2020</td>\n",
       "      <td>2021</td>\n",
       "      <td>2020</td>\n",
       "      <td>2021</td>\n",
       "    </tr>\n",
       "    <tr>\n",
       "      <th>2</th>\n",
       "      <td>JANUARY</td>\n",
       "      <td>85033</td>\n",
       "      <td>168717</td>\n",
       "      <td>28684</td>\n",
       "      <td>30259</td>\n",
       "      <td>9442</td>\n",
       "      <td>1731</td>\n",
       "    </tr>\n",
       "    <tr>\n",
       "      <th>3</th>\n",
       "      <td>FEBRUARY</td>\n",
       "      <td>66735</td>\n",
       "      <td>87326</td>\n",
       "      <td>22320</td>\n",
       "      <td>21256</td>\n",
       "      <td>3803</td>\n",
       "      <td>4056</td>\n",
       "    </tr>\n",
       "    <tr>\n",
       "      <th>4</th>\n",
       "      <td>MARCH</td>\n",
       "      <td>79216</td>\n",
       "      <td>137332</td>\n",
       "      <td>20439</td>\n",
       "      <td>10009</td>\n",
       "      <td>5656</td>\n",
       "      <td>4147</td>\n",
       "    </tr>\n",
       "  </tbody>\n",
       "</table>\n",
       "</div>"
      ],
      "text/plain": [
       "          0         1         2                3                4  \\\n",
       "0    Months  Palm Oil  Palm Oil  Palm Kernel Oil  Palm Kernel Oil   \n",
       "1    Months      2020      2021             2020             2021   \n",
       "2   JANUARY     85033    168717            28684            30259   \n",
       "3  FEBRUARY     66735     87326            22320            21256   \n",
       "4     MARCH     79216    137332            20439            10009   \n",
       "\n",
       "             5            6  \n",
       "0  Palm Kernel  Palm Kernel  \n",
       "1         2020         2021  \n",
       "2         9442         1731  \n",
       "3         3803         4056  \n",
       "4         5656         4147  "
      ]
     },
     "execution_count": 9,
     "metadata": {},
     "output_type": "execute_result"
    }
   ],
   "source": [
    "ex1_df = ex1_dfs[0]\n",
    "ex1_df.head()"
   ]
  },
  {
   "cell_type": "markdown",
   "metadata": {},
   "source": [
    ">I stop the extraction at this stage and keep the cleaning (eliminating row 1 for example) to the next step of the processing."
   ]
  },
  {
   "cell_type": "code",
   "execution_count": 10,
   "metadata": {},
   "outputs": [],
   "source": [
    "#save into a csv file\n",
    "outfile = 'html_bepi.csv'\n",
    "ex1_df.to_csv(FOLDER+outfile)"
   ]
  },
  {
   "cell_type": "markdown",
   "metadata": {},
   "source": [
    "## Excercise 2"
   ]
  },
  {
   "cell_type": "code",
   "execution_count": 11,
   "metadata": {},
   "outputs": [],
   "source": [
    "filename = 'table2.xlsx'\n",
    "data = pd.read_excel(FOLDER+filename, sheet_name=None, skiprows=3)#dict{sheet1: table1, sheet2: table2, ...}"
   ]
  },
  {
   "cell_type": "code",
   "execution_count": 12,
   "metadata": {},
   "outputs": [],
   "source": [
    "\"\"\"\n",
    "    The function takes a dataframe and returns a clean version of it.\n",
    "\"\"\"\n",
    "def clean_df(df):\n",
    "    df = df.set_index('Period')\n",
    "    df = df.dropna(how='all')\n",
    "    df = df.dropna(axis='columns', how='all')\n",
    "    return df"
   ]
  },
  {
   "cell_type": "code",
   "execution_count": 13,
   "metadata": {},
   "outputs": [],
   "source": [
    "clean_dfs = []\n",
    "for key in data:\n",
    "        clean_dfs.append(clean_df(data[key]))"
   ]
  },
  {
   "cell_type": "code",
   "execution_count": 14,
   "metadata": {},
   "outputs": [
    {
     "data": {
      "text/html": [
       "<div>\n",
       "<style scoped>\n",
       "    .dataframe tbody tr th:only-of-type {\n",
       "        vertical-align: middle;\n",
       "    }\n",
       "\n",
       "    .dataframe tbody tr th {\n",
       "        vertical-align: top;\n",
       "    }\n",
       "\n",
       "    .dataframe thead th {\n",
       "        text-align: right;\n",
       "    }\n",
       "</style>\n",
       "<table border=\"1\" class=\"dataframe\">\n",
       "  <thead>\n",
       "    <tr style=\"text-align: right;\">\n",
       "      <th></th>\n",
       "      <th>Corn</th>\n",
       "      <th>Grain Sorghum</th>\n",
       "      <th>Agriculture and forestry residues</th>\n",
       "      <th>Dedicated energy crops</th>\n",
       "      <th>Other</th>\n",
       "      <th>Poultry</th>\n",
       "      <th>Tallow (beef)</th>\n",
       "      <th>White Grease</th>\n",
       "      <th>Yellow Grease</th>\n",
       "      <th>Other</th>\n",
       "      <th>...</th>\n",
       "      <th>Corn oil</th>\n",
       "      <th>Palm oil</th>\n",
       "      <th>Sorghum oil</th>\n",
       "      <th>Soybean oil</th>\n",
       "      <th>Other vegetable oils</th>\n",
       "      <th>Municipal solid waste</th>\n",
       "      <th>Yard and food waste</th>\n",
       "      <th>Other</th>\n",
       "      <th>Biogas</th>\n",
       "      <th>Other biofuel feedstocks (NESOI)</th>\n",
       "    </tr>\n",
       "    <tr>\n",
       "      <th>Period</th>\n",
       "      <th></th>\n",
       "      <th></th>\n",
       "      <th></th>\n",
       "      <th></th>\n",
       "      <th></th>\n",
       "      <th></th>\n",
       "      <th></th>\n",
       "      <th></th>\n",
       "      <th></th>\n",
       "      <th></th>\n",
       "      <th></th>\n",
       "      <th></th>\n",
       "      <th></th>\n",
       "      <th></th>\n",
       "      <th></th>\n",
       "      <th></th>\n",
       "      <th></th>\n",
       "      <th></th>\n",
       "      <th></th>\n",
       "      <th></th>\n",
       "      <th></th>\n",
       "    </tr>\n",
       "  </thead>\n",
       "  <tbody>\n",
       "    <tr>\n",
       "      <th>January</th>\n",
       "      <td>23237.114</td>\n",
       "      <td>W</td>\n",
       "      <td>0.0</td>\n",
       "      <td>0.0</td>\n",
       "      <td>0.0</td>\n",
       "      <td>33.535</td>\n",
       "      <td>83.999</td>\n",
       "      <td>52.546</td>\n",
       "      <td>262.722</td>\n",
       "      <td>5.586</td>\n",
       "      <td>...</td>\n",
       "      <td>213.334</td>\n",
       "      <td>0.0</td>\n",
       "      <td>0.0</td>\n",
       "      <td>682.876</td>\n",
       "      <td>0.0</td>\n",
       "      <td>0.0</td>\n",
       "      <td>W</td>\n",
       "      <td>63.527000</td>\n",
       "      <td>0.0</td>\n",
       "      <td>19.834</td>\n",
       "    </tr>\n",
       "    <tr>\n",
       "      <th>February</th>\n",
       "      <td>18716.806</td>\n",
       "      <td>W</td>\n",
       "      <td>0.0</td>\n",
       "      <td>0.0</td>\n",
       "      <td>0.0</td>\n",
       "      <td>34.245</td>\n",
       "      <td>66.431</td>\n",
       "      <td>50.412</td>\n",
       "      <td>197.612</td>\n",
       "      <td>3.393</td>\n",
       "      <td>...</td>\n",
       "      <td>155.020</td>\n",
       "      <td>0.0</td>\n",
       "      <td>0.0</td>\n",
       "      <td>552.228</td>\n",
       "      <td>0.0</td>\n",
       "      <td>0.0</td>\n",
       "      <td>W</td>\n",
       "      <td>51.749381</td>\n",
       "      <td>0.0</td>\n",
       "      <td>10.503</td>\n",
       "    </tr>\n",
       "  </tbody>\n",
       "</table>\n",
       "<p>2 rows × 22 columns</p>\n",
       "</div>"
      ],
      "text/plain": [
       "               Corn Grain Sorghum  Agriculture and forestry residues  \\\n",
       "Period                                                                 \n",
       "January   23237.114             W                                0.0   \n",
       "February  18716.806             W                                0.0   \n",
       "\n",
       "          Dedicated energy crops  Other  Poultry  Tallow (beef)  White Grease  \\\n",
       "Period                                                                          \n",
       "January                      0.0    0.0   33.535         83.999        52.546   \n",
       "February                     0.0    0.0   34.245         66.431        50.412   \n",
       "\n",
       "          Yellow Grease  Other  ...  Corn oil Palm oil  Sorghum oil  \\\n",
       "Period                          ...                                   \n",
       "January         262.722  5.586  ...   213.334      0.0          0.0   \n",
       "February        197.612  3.393  ...   155.020      0.0          0.0   \n",
       "\n",
       "          Soybean oil  Other vegetable oils  Municipal solid waste  \\\n",
       "Period                                                               \n",
       "January       682.876                   0.0                    0.0   \n",
       "February      552.228                   0.0                    0.0   \n",
       "\n",
       "          Yard and food waste      Other Biogas  \\\n",
       "Period                                            \n",
       "January                     W  63.527000    0.0   \n",
       "February                    W  51.749381    0.0   \n",
       "\n",
       "          Other biofuel feedstocks (NESOI)  \n",
       "Period                                      \n",
       "January                             19.834  \n",
       "February                            10.503  \n",
       "\n",
       "[2 rows x 22 columns]"
      ]
     },
     "execution_count": 14,
     "metadata": {},
     "output_type": "execute_result"
    }
   ],
   "source": [
    "ex2_df = pd.concat(clean_dfs, axis=1)\n",
    "ex2_df.head()"
   ]
  },
  {
   "cell_type": "markdown",
   "metadata": {},
   "source": [
    ">It would probably be judicious to make the dataframe vertical and create a multiindex (categroy, subcategory) because we have column 'Other' multiple times and that is confusing. Other solution would be to simply rename the columns 'Other'."
   ]
  },
  {
   "cell_type": "code",
   "execution_count": 15,
   "metadata": {},
   "outputs": [],
   "source": [
    "#save into a csv file\n",
    "outfile = 'xlsx_us_feedstocks.csv'\n",
    "ex2_df.to_csv(FOLDER+outfile)"
   ]
  },
  {
   "cell_type": "markdown",
   "metadata": {},
   "source": [
    "## Exercise 3"
   ]
  },
  {
   "cell_type": "code",
   "execution_count": 16,
   "metadata": {},
   "outputs": [
    {
     "name": "stdout",
     "output_type": "stream",
     "text": [
      "Requirement already satisfied: tabula-py in /home/ghalifaten/Anaconda3/lib/python3.8/site-packages (2.2.0)\n",
      "Requirement already satisfied: distro in /home/ghalifaten/Anaconda3/lib/python3.8/site-packages (from tabula-py) (1.5.0)\n",
      "Requirement already satisfied: pandas>=0.25.3 in /home/ghalifaten/Anaconda3/lib/python3.8/site-packages (from tabula-py) (1.0.5)\n",
      "Requirement already satisfied: numpy in /home/ghalifaten/Anaconda3/lib/python3.8/site-packages (from tabula-py) (1.19.4)\n",
      "Requirement already satisfied: pytz>=2017.2 in /home/ghalifaten/Anaconda3/lib/python3.8/site-packages (from pandas>=0.25.3->tabula-py) (2020.1)\n",
      "Requirement already satisfied: python-dateutil>=2.6.1 in /home/ghalifaten/Anaconda3/lib/python3.8/site-packages (from pandas>=0.25.3->tabula-py) (2.8.1)\n",
      "Requirement already satisfied: six>=1.5 in /home/ghalifaten/Anaconda3/lib/python3.8/site-packages (from python-dateutil>=2.6.1->pandas>=0.25.3->tabula-py) (1.15.0)\n",
      "Note: you may need to restart the kernel to use updated packages.\n"
     ]
    }
   ],
   "source": [
    "%pip install tabula-py"
   ]
  },
  {
   "cell_type": "code",
   "execution_count": 17,
   "metadata": {},
   "outputs": [],
   "source": [
    "from tabula import read_pdf"
   ]
  },
  {
   "cell_type": "code",
   "execution_count": 18,
   "metadata": {},
   "outputs": [
    {
     "data": {
      "text/plain": [
       "1"
      ]
     },
     "execution_count": 18,
     "metadata": {},
     "output_type": "execute_result"
    }
   ],
   "source": [
    "filename = 'Area_summary.pdf'\n",
    "ex3_dfs = read_pdf(FOLDER+filename, pages='all') #returns a list of dataframes\n",
    "len(ex3_dfs)"
   ]
  },
  {
   "cell_type": "code",
   "execution_count": 19,
   "metadata": {},
   "outputs": [
    {
     "data": {
      "text/html": [
       "<div>\n",
       "<style scoped>\n",
       "    .dataframe tbody tr th:only-of-type {\n",
       "        vertical-align: middle;\n",
       "    }\n",
       "\n",
       "    .dataframe tbody tr th {\n",
       "        vertical-align: top;\n",
       "    }\n",
       "\n",
       "    .dataframe thead th {\n",
       "        text-align: right;\n",
       "    }\n",
       "</style>\n",
       "<table border=\"1\" class=\"dataframe\">\n",
       "  <thead>\n",
       "    <tr style=\"text-align: right;\">\n",
       "      <th></th>\n",
       "      <th>Unnamed: 0</th>\n",
       "      <th>Unnamed: 1</th>\n",
       "      <th>MATURE</th>\n",
       "      <th>Unnamed: 2</th>\n",
       "      <th>IMMATURE</th>\n",
       "      <th>Unnamed: 3</th>\n",
       "      <th>TOTAL</th>\n",
       "      <th>Unnamed: 4</th>\n",
       "    </tr>\n",
       "  </thead>\n",
       "  <tbody>\n",
       "    <tr>\n",
       "      <th>0</th>\n",
       "      <td>NaN</td>\n",
       "      <td>STATE</td>\n",
       "      <td>NaN</td>\n",
       "      <td>%</td>\n",
       "      <td>NaN</td>\n",
       "      <td>%</td>\n",
       "      <td>NaN</td>\n",
       "      <td>%</td>\n",
       "    </tr>\n",
       "    <tr>\n",
       "      <th>1</th>\n",
       "      <td>NaN</td>\n",
       "      <td>NaN</td>\n",
       "      <td>(HA)</td>\n",
       "      <td>NaN</td>\n",
       "      <td>(HA)</td>\n",
       "      <td>NaN</td>\n",
       "      <td>(HA)</td>\n",
       "      <td>NaN</td>\n",
       "    </tr>\n",
       "    <tr>\n",
       "      <th>2</th>\n",
       "      <td>JOHOR</td>\n",
       "      <td>NaN</td>\n",
       "      <td>688,291</td>\n",
       "      <td>92.9</td>\n",
       "      <td>52,537</td>\n",
       "      <td>7.1</td>\n",
       "      <td>740,828</td>\n",
       "      <td>12.6</td>\n",
       "    </tr>\n",
       "    <tr>\n",
       "      <th>3</th>\n",
       "      <td>KEDAH</td>\n",
       "      <td>NaN</td>\n",
       "      <td>80,210</td>\n",
       "      <td>89.3</td>\n",
       "      <td>9,572</td>\n",
       "      <td>10.7</td>\n",
       "      <td>89,782</td>\n",
       "      <td>1.5</td>\n",
       "    </tr>\n",
       "    <tr>\n",
       "      <th>4</th>\n",
       "      <td>KELANTAN</td>\n",
       "      <td>NaN</td>\n",
       "      <td>131,768</td>\n",
       "      <td>78.6</td>\n",
       "      <td>35,831</td>\n",
       "      <td>21.4</td>\n",
       "      <td>167,599</td>\n",
       "      <td>2.9</td>\n",
       "    </tr>\n",
       "  </tbody>\n",
       "</table>\n",
       "</div>"
      ],
      "text/plain": [
       "  Unnamed: 0 Unnamed: 1   MATURE Unnamed: 2 IMMATURE Unnamed: 3    TOTAL  \\\n",
       "0        NaN      STATE      NaN          %      NaN          %      NaN   \n",
       "1        NaN        NaN     (HA)        NaN     (HA)        NaN     (HA)   \n",
       "2      JOHOR        NaN  688,291       92.9   52,537        7.1  740,828   \n",
       "3      KEDAH        NaN   80,210       89.3    9,572       10.7   89,782   \n",
       "4   KELANTAN        NaN  131,768       78.6   35,831       21.4  167,599   \n",
       "\n",
       "  Unnamed: 4  \n",
       "0          %  \n",
       "1        NaN  \n",
       "2       12.6  \n",
       "3        1.5  \n",
       "4        2.9  "
      ]
     },
     "execution_count": 19,
     "metadata": {},
     "output_type": "execute_result"
    }
   ],
   "source": [
    "ex3_df = ex3_dfs[0]\n",
    "ex3_df.head()"
   ]
  },
  {
   "cell_type": "markdown",
   "metadata": {},
   "source": [
    ">Again, I think that cleaning the dataframe should be kept to the next step of the processing. Here are only minor manual manipulations that are needed to delete the extra columns (column 'Unnamed:1') and rows (0 and 1) caused by the fusioned cells on the original table."
   ]
  },
  {
   "cell_type": "code",
   "execution_count": 20,
   "metadata": {},
   "outputs": [],
   "source": [
    "#save into a csv file\n",
    "outfile = 'pdf_area_summary.csv'\n",
    "ex3_df.to_csv(FOLDER+outfile)"
   ]
  }
 ],
 "metadata": {
  "kernelspec": {
   "display_name": "Python 3",
   "language": "python",
   "name": "python3"
  },
  "language_info": {
   "codemirror_mode": {
    "name": "ipython",
    "version": 3
   },
   "file_extension": ".py",
   "mimetype": "text/x-python",
   "name": "python",
   "nbconvert_exporter": "python",
   "pygments_lexer": "ipython3",
   "version": "3.8.3"
  }
 },
 "nbformat": 4,
 "nbformat_minor": 4
}
